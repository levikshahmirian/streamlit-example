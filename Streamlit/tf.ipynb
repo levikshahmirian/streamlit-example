{
 "cells": [
  {
   "cell_type": "code",
   "execution_count": null,
   "metadata": {},
   "outputs": [],
   "source": [
    "import streamlit as st\n",
    "import tensorflow as tf\n",
    "from tensorflow import keras\n",
    "import requests\n",
    "import numpy as np\n",
    "\n",
    "#Title\n",
    "st.title(\"Image Classification\")\n",
    "\n",
    "#load model, set cache to prevent reloading\n",
    "@st.cache(allow_output_mutation=True)\n",
    "def load_model():\n",
    "    model=tf.keras.models.load_model('models/basic_model.h5')\n",
    "    return model\n",
    "\n",
    "with st.spinner(\"Loading Model....\"):\n",
    "    model=load_model()\n",
    "    \n",
    "#classes for CIFAR-10 dataset\n",
    "classes=[\"airplane\",\"automobile\",\"bird\",\"cat\",\"deer\",\"dog\",\"frog\",\"horse\",\"ship\",\"truck\"]\n",
    "\n",
    "# image preprocessing\n",
    "def load_image(image):\n",
    "    img=tf.image.decode_jpeg(image,channels=3)\n",
    "    img=tf.cast(img,tf.float32)\n",
    "    img/=255.0\n",
    "    img=tf.image.resize(img,(28,28))\n",
    "    img=tf.expand_dims(img,axis=0)\n",
    "    return img\n",
    "\n",
    "#Get image URL from user\n",
    "image_path=st.text_input(\"Enter Image URL to classify...\",\"https://media.istockphoto.com/photos/passenger-airplane-flying-above-clouds-during-sunset-picture-id155439315?k=20&m=155439315&s=612x612&w=0&h=BvXCpRLaP5h1NnvyYI_2iRtSM0Xsz2jQhAmZ7nA7abA=\")\n",
    "\n",
    "#Get image from URL and predict\n",
    "if image_path:\n",
    "    try:\n",
    "        content=requests.get(image_path).content\n",
    "        st.write(\"Predicting Class...\")\n",
    "        with st.spinner(\"Classifying...\"):\n",
    "            img_tensor=load_image(content)\n",
    "            pred=model.predict(img_tensor)\n",
    "            pred_class=classes[np.argmax(pred)]\n",
    "            st.write(\"Predicted Class:\",pred_class)\n",
    "            st.image(content,use_column_width=True)\n",
    "    except:\n",
    "        st.write(\"Invalid URL\")"
   ]
  }
 ],
 "metadata": {
  "language_info": {
   "name": "python"
  },
  "orig_nbformat": 4
 },
 "nbformat": 4,
 "nbformat_minor": 2
}
